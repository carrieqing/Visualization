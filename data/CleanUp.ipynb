{
 "cells": [
  {
   "cell_type": "code",
   "execution_count": 1,
   "metadata": {},
   "outputs": [],
   "source": [
    "import pandas as pd\n",
    "import numpy as np"
   ]
  },
  {
   "cell_type": "code",
   "execution_count": 2,
   "metadata": {},
   "outputs": [],
   "source": [
    "raw_df = pd.read_excel('raw_data.xls', sheet_name='Data', skiprows=3)"
   ]
  },
  {
   "cell_type": "code",
   "execution_count": 3,
   "metadata": {},
   "outputs": [],
   "source": [
    "indicators = {'SP.POP.TOTL': 'Population', \n",
    "              'NY.GDP.MKTP.CD': 'GDP (US$)',\n",
    "              'SE.XPD.TOTL.GD.ZS': '% Education spending',\n",
    "              'MS.MIL.XPND.CD': 'Military Spending (US$)',\n",
    "              'SH.XPD.CHEX.GD.ZS': '% Health spending'\n",
    "             }\n",
    "\n",
    "\n",
    "\n",
    "year_data = raw_df.loc[:, ['Country Name', 'Indicator Name', 'Indicator Code', \n",
    "                                                                            '2010', '2011', '2012', '2013', '2014', '2015', '2016']]"
   ]
  },
  {
   "cell_type": "code",
   "execution_count": 10,
   "metadata": {
    "scrolled": false
   },
   "outputs": [],
   "source": [
    "filtered = year_data.loc[year_data['Indicator Code'].isin(indicators.keys()), :]\n",
    "filtered.loc[:, 'Indicator Name'] = filtered.loc[:, 'Indicator Code'].apply(lambda x: indicators[x])\n",
    "filtered.drop(['Indicator Code'], axis = 1, inplace = True)\n",
    "indexed = filtered.set_index('Country Name')\n",
    "#indexed.fillna(0, inplace = True)"
   ]
  },
  {
   "cell_type": "code",
   "execution_count": 11,
   "metadata": {},
   "outputs": [],
   "source": [
    "education = indexed.loc[indexed['Indicator Name'] == '% Education spending', :]\n",
    "healthcare = indexed.loc[indexed['Indicator Name'] == '% Health spending', :]\n",
    "gdp = indexed.loc[indexed['Indicator Name'] == 'GDP (US$)', :]\n",
    "military_total = indexed.loc[indexed['Indicator Name'] == 'Military Spending (US$)', :]\n",
    "population = indexed.loc[indexed['Indicator Name'] == 'Population']\n"
   ]
  },
  {
   "cell_type": "code",
   "execution_count": 15,
   "metadata": {},
   "outputs": [
    {
     "name": "stderr",
     "output_type": "stream",
     "text": [
      "C:\\ProgramData\\Anaconda3\\lib\\site-packages\\ipykernel_launcher.py:1: SettingWithCopyWarning: \n",
      "A value is trying to be set on a copy of a slice from a DataFrame\n",
      "\n",
      "See the caveats in the documentation: http://pandas.pydata.org/pandas-docs/stable/indexing.html#indexing-view-versus-copy\n",
      "  \"\"\"Entry point for launching an IPython kernel.\n"
     ]
    }
   ],
   "source": [
    "education.dropna(thresh=7, inplace = True)\n",
    "education_total = education.copy()\n",
    "education_total.loc[:, '2010':'2016'] = education.loc[:, '2010':'2016'] * gdp.loc[:, '2010':'2016'] / 100\n",
    "\n",
    "education_growth = education_total.copy()\n",
    "education_growth.loc[:, '2010'] = np.NAN\n",
    "education_growth.loc[:, '2011':'2016'] = education_total.loc[:, '2011':'2016'].values - education_total.loc[:, '2010':'2015'].values\n",
    "education_growth_per = education_growth.copy()\n",
    "education_growth_per.loc[:, '2011':'2016'] = education_growth.loc[:, '2011':'2016'].values / education_total.loc[:, '2010':'2015'].values * 100\n",
    "education_growth_per.drop(['Indicator Name'], axis = 1,  inplace = True)\n",
    "education_growth.drop(['Indicator Name'], axis = 1,  inplace = True)\n",
    "education_growth = education_growth.transpose()\n",
    "education_growth.index.rename('Year', inplace = True)\n",
    "education_growth_per = education_growth_per.transpose()\n",
    "education_growth_per.index.rename('Year', inplace = True)\n",
    "\n",
    "education_total.fillna(0, inplace = True)\n",
    "\n",
    "healthcare = healthcare.loc[healthcare.index.isin(education.index)]\n",
    "healthcare_total = healthcare.copy()\n",
    "healthcare_total.loc[:, '2010':'2016'] = healthcare.loc[:, '2010':'2016'] * gdp.loc[:, '2010':'2016']  / 100\n",
    "\n",
    "healthcare_growth = healthcare_total.copy()\n",
    "healthcare_growth.loc[:, '2010'] = np.NAN\n",
    "healthcare_growth.loc[:, '2011':'2016'] = healthcare_total.loc[:, '2011':'2016'].values - healthcare_total.loc[:, '2010':'2015'].values\n",
    "healthcare_growth_per = healthcare_growth.copy()\n",
    "healthcare_growth_per.loc[:, '2011':'2016'] = healthcare_growth.loc[:, '2011':'2016'].values / healthcare_total.loc[:, '2010':'2015'].values * 100\n",
    "healthcare_growth.drop(['Indicator Name'], axis = 1,  inplace = True)\n",
    "healthcare_growth = healthcare_growth.transpose()\n",
    "healthcare_growth.index.rename('Year', inplace = True)\n",
    "healthcare_growth_per.drop(['Indicator Name'], axis = 1,  inplace = True)\n",
    "healthcare_growth_per = healthcare_growth_per.transpose()\n",
    "healthcare_growth_per.index.rename('Year', inplace = True)\n",
    "\n",
    "military_total = military_total.loc[military_total.index.isin(education.index)]\n",
    "military_gdp = military_total.copy()\n",
    "military_gdp.loc[:, '2010':'2016'] = military_total.loc[:, '2010':'2016'] / gdp.loc[:, '2010':'2016'] * 100\n",
    "\n",
    "population = population.loc[population.index.isin(education.index)]\n",
    "gdp = gdp.loc[gdp.index.isin(education.index)]\n",
    "gdp_pcap = gdp.copy()\n",
    "education_pcap = education_total.copy()\n",
    "healthcare_pcap = healthcare_total.copy()\n",
    "military_pcap = military_total.copy()\n",
    "\n",
    "education_pcap.loc[:,'2010':'2016'] = education_total.loc[:, '2010':'2016'] / population.loc[:, '2010':'2016']\n",
    "healthcare_pcap.loc[:,'2010':'2016'] = healthcare_total.loc[:, '2010':'2016'] / population.loc[:, '2010':'2016']\n",
    "military_pcap.loc[:,'2010':'2016'] = military_total.loc[:, '2010':'2016'] / population.loc[:, '2010':'2016']\n",
    "gdp_pcap.loc[:,'2010':'2016'] = gdp.loc[:, '2010':'2016'] / population.loc[:, '2010':'2016']\n",
    "\n",
    "shared_education_pcap = education_pcap.copy()\n",
    "shared_education_pcap.loc[:, '2010':'2016'] = education_pcap.loc[:, '2010':'2016'] / gdp_pcap.loc[:,'2010':'2016']\n",
    "\n",
    "shared_healthcare_pcap = healthcare_pcap.copy()\n",
    "shared_healthcare_pcap.loc[:, '2010':'2016'] = healthcare_pcap.loc[:, '2010':'2016'] / gdp_pcap.loc[:,'2010':'2016']\n",
    "\n",
    "shared_military_pcap = military_pcap.copy()\n",
    "shared_military_pcap.loc[:, '2010':'2016'] = military_pcap.loc[:, '2010':'2016'] / gdp_pcap.loc[:,'2010':'2016']\n",
    "\n",
    "excel_file = 'cleaned_data.xlsx'\n",
    "with pd.ExcelWriter(excel_file, engine='xlsxwriter') as writer: \n",
    "    gdp.to_excel(writer, sheet_name = 'GDP')\n",
    "    gdp_pcap.to_excel(writer, sheet_name = 'GDP_Per_Capita')\n",
    "    education_total.to_excel(writer, sheet_name = 'Education_Expense')\n",
    "    education.to_excel(writer, sheet_name = 'Shared_Education')\n",
    "    education_pcap.to_excel(writer, sheet_name = 'Education_Per_Capita')\n",
    "    shared_education_pcap.to_excel(writer, sheet_name = 'Shared_Education_PCAP')\n",
    "    education_growth.to_excel(writer, sheet_name = 'Education_Growth')\n",
    "    education_growth_per.to_excel(writer, sheet_name = 'Education_Growth_Percentage')\n",
    "    healthcare_total.to_excel(writer, sheet_name = 'Healthcare_Expense')\n",
    "    healthcare.to_excel(writer, sheet_name = 'Shared_Healthcare')\n",
    "    healthcare_pcap.to_excel(writer, sheet_name = 'Healthcare_Per_Capita')\n",
    "    shared_healthcare_pcap.to_excel(writer, sheet_name = 'Shared_Healthcare_PCAP')\n",
    "    healthcare_growth.to_excel(writer, sheet_name = 'Healthcare_Growth')\n",
    "    healthcare_growth_per.to_excel(writer, sheet_name = 'Healthcare_Growth_Percentage')\n",
    "    military_total.to_excel(writer, sheet_name = 'Military_Expense')\n",
    "    military_gdp.to_excel(writer, sheet_name = 'Shared_Military')\n",
    "    military_pcap.to_excel(writer, sheet_name = 'Military_Per_Capita')\n",
    "    shared_military_pcap.to_excel(writer, sheet_name = 'Shared_Military_PCAP')\n",
    "    writer.save()\n",
    "\n"
   ]
  }
 ],
 "metadata": {
  "kernelspec": {
   "display_name": "Python 3",
   "language": "python",
   "name": "python3"
  },
  "language_info": {
   "codemirror_mode": {
    "name": "ipython",
    "version": 3
   },
   "file_extension": ".py",
   "mimetype": "text/x-python",
   "name": "python",
   "nbconvert_exporter": "python",
   "pygments_lexer": "ipython3",
   "version": "3.7.3"
  }
 },
 "nbformat": 4,
 "nbformat_minor": 2
}
